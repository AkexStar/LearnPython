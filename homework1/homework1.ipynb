{
 "cells": [
  {
   "attachments": {},
   "cell_type": "markdown",
   "metadata": {},
   "source": [
    "# python大数据作业1\n",
    "\n",
    "癌症乃是人类健康的一大杀手，对于癌症的分析和预测成为现代医学领域中的一个重要问题。本作业使用一批患者的检查样本数据（breast_cancer.csv），通过建立一个逻辑回归模型来学习这些样本数据，来得到一个较好的乳腺癌预测模型。"
   ]
  },
  {
   "attachments": {},
   "cell_type": "markdown",
   "metadata": {},
   "source": [
    "## 0.配置环境"
   ]
  },
  {
   "cell_type": "code",
   "execution_count": 1,
   "metadata": {},
   "outputs": [],
   "source": [
    "import pandas as pd\n",
    "import numpy as np\n",
    "import seaborn as sns\n",
    "from sklearn.model_selection import train_test_split\n",
    "from sklearn.impute import SimpleImputer\n",
    "from sklearn.linear_model import LogisticRegression\n",
    "from sklearn.metrics import accuracy_score\n",
    "from sklearn.metrics import confusion_matrix\n",
    "from sklearn.metrics import roc_auc_score\n",
    "from sklearn.metrics import roc_curve\n",
    "from sklearn.metrics import classification_report\n",
    "from sklearn.metrics import precision_recall_curve\n",
    "from sklearn.metrics import average_precision_score\n",
    "from sklearn.metrics import precision_score\n",
    "from sklearn.metrics import recall_score\n",
    "from sklearn.metrics import f1_score\n",
    "from sklearn.metrics import precision_recall_fscore_support\n",
    "import matplotlib.pyplot as plt"
   ]
  },
  {
   "attachments": {},
   "cell_type": "markdown",
   "metadata": {},
   "source": [
    "## 1.数据预处理\n",
    "\n",
    "### 1.1读入数据\n",
    "\n",
    "- 使用`pandas`读入csv格式的数据\n",
    "- 使用`pandas`的`head()`方法查看前5行数据\n",
    "- 使用`pandas`的`info()`方法查看数据的基本信息\n",
    "- 使用`pandas`的`describe()`方法查看数据的统计信息\n",
    "- 使用`pandas`的`isnull().sum()`方法查看数据中缺失值的个数\n"
   ]
  },
  {
   "cell_type": "code",
   "execution_count": 18,
   "metadata": {},
   "outputs": [
    {
     "name": "stdout",
     "output_type": "stream",
     "text": [
      "   mean radius  mean texture  mean perimeter  mean area  mean smoothness  \\\n",
      "0        17.99         10.38           122.8     1001.0          0.11840   \n",
      "1        20.57         17.77           132.9     1326.0          0.08474   \n",
      "2        19.69         21.25           130.0     1203.0          0.10960   \n",
      "\n",
      "   mean compactness  mean concavity  mean concave points  mean symmetry  \\\n",
      "0           0.27760          0.3001              0.14710         0.2419   \n",
      "1           0.07864          0.0869              0.07017         0.1812   \n",
      "2           0.15990          0.1974              0.12790         0.2069   \n",
      "\n",
      "   mean fractal dimension  ...  worst texture  worst perimeter  worst area  \\\n",
      "0                 0.07871  ...          17.33            184.6      2019.0   \n",
      "1                 0.05667  ...          23.41            158.8      1956.0   \n",
      "2                 0.05999  ...          25.53            152.5      1709.0   \n",
      "\n",
      "   worst smoothness  worst compactness  worst concavity  worst concave points  \\\n",
      "0            0.1622             0.6656           0.7119                0.2654   \n",
      "1            0.1238             0.1866           0.2416                0.1860   \n",
      "2            0.1444             0.4245           0.4504                0.2430   \n",
      "\n",
      "   worst symmetry  worst fractal dimension  y  \n",
      "0          0.4601                  0.11890  0  \n",
      "1          0.2750                  0.08902  0  \n",
      "2          0.3613                  0.08758  0  \n",
      "\n",
      "[3 rows x 31 columns]\n"
     ]
    }
   ],
   "source": [
    "# 读取数据\n",
    "data = pd.read_csv('breast_cancer.csv')\n",
    "# 输出显示数据的前3行\n",
    "print(data.head(3))"
   ]
  },
  {
   "cell_type": "code",
   "execution_count": 3,
   "metadata": {},
   "outputs": [
    {
     "name": "stdout",
     "output_type": "stream",
     "text": [
      "<class 'pandas.core.frame.DataFrame'>\n",
      "RangeIndex: 569 entries, 0 to 568\n",
      "Data columns (total 31 columns):\n",
      " #   Column                   Non-Null Count  Dtype  \n",
      "---  ------                   --------------  -----  \n",
      " 0   mean radius              561 non-null    float64\n",
      " 1   mean texture             569 non-null    float64\n",
      " 2   mean perimeter           563 non-null    float64\n",
      " 3   mean area                569 non-null    float64\n",
      " 4   mean smoothness          569 non-null    float64\n",
      " 5   mean compactness         569 non-null    float64\n",
      " 6   mean concavity           569 non-null    float64\n",
      " 7   mean concave points      569 non-null    float64\n",
      " 8   mean symmetry            569 non-null    float64\n",
      " 9   mean fractal dimension   569 non-null    float64\n",
      " 10  radius error             569 non-null    float64\n",
      " 11  texture error            569 non-null    float64\n",
      " 12  perimeter error          569 non-null    float64\n",
      " 13  area error               569 non-null    float64\n",
      " 14  smoothness error         569 non-null    float64\n",
      " 15  compactness error        569 non-null    float64\n",
      " 16  concavity error          569 non-null    float64\n",
      " 17  concave points error     569 non-null    float64\n",
      " 18  symmetry error           569 non-null    float64\n",
      " 19  fractal dimension error  569 non-null    float64\n",
      " 20  worst radius             569 non-null    float64\n",
      " 21  worst texture            569 non-null    float64\n",
      " 22  worst perimeter          569 non-null    float64\n",
      " 23  worst area               569 non-null    float64\n",
      " 24  worst smoothness         569 non-null    float64\n",
      " 25  worst compactness        569 non-null    float64\n",
      " 26  worst concavity          569 non-null    float64\n",
      " 27  worst concave points     569 non-null    float64\n",
      " 28  worst symmetry           569 non-null    float64\n",
      " 29  worst fractal dimension  569 non-null    float64\n",
      " 30  y                        569 non-null    int64  \n",
      "dtypes: float64(30), int64(1)\n",
      "memory usage: 137.9 KB\n",
      "None\n"
     ]
    }
   ],
   "source": [
    "# 查看数据情况：包括基本信息、统计信息、缺失值情况\n",
    "print(data.info())"
   ]
  },
  {
   "cell_type": "code",
   "execution_count": 19,
   "metadata": {},
   "outputs": [],
   "source": [
    "# print(data.describe())"
   ]
  },
  {
   "attachments": {},
   "cell_type": "markdown",
   "metadata": {},
   "source": [
    "- 可见`mean radius`缺失8条数据，`mean perimeter`缺失6条数据\n",
    "- 其余数据正常无缺失"
   ]
  },
  {
   "cell_type": "code",
   "execution_count": 5,
   "metadata": {},
   "outputs": [
    {
     "name": "stdout",
     "output_type": "stream",
     "text": [
      "数据中正样本的个数： 357\n",
      "数据中负样本的个数： 212\n"
     ]
    }
   ],
   "source": [
    "print('数据中正样本的个数：', len(data[data['y']==1]))\n",
    "print('数据中负样本的个数：', len(data[data['y']==0]))"
   ]
  },
  {
   "attachments": {},
   "cell_type": "markdown",
   "metadata": {},
   "source": [
    "### 1.2数据清洗\n",
    "\n",
    "- 使用`pandas`的`simpleImputer`方法对数据中的缺失值进行填充"
   ]
  },
  {
   "cell_type": "code",
   "execution_count": 6,
   "metadata": {},
   "outputs": [],
   "source": [
    "# 处理缺失值，使用均值填充\n",
    "imputer = SimpleImputer(strategy='mean')\n",
    "# 转换为DataFrame格式\n",
    "data = pd.DataFrame(imputer.fit_transform(data), columns=data.columns)"
   ]
  },
  {
   "cell_type": "markdown",
   "metadata": {},
   "source": [
    "### 1.3数据标准化"
   ]
  },
  {
   "cell_type": "code",
   "execution_count": 7,
   "metadata": {},
   "outputs": [],
   "source": [
    "# 区分开特征和标签\n",
    "X = data.drop(['y'], axis=1)\n",
    "y = data['y']\n",
    "# 对数据集标准化，使用z-score标准化\n",
    "X1 = (X - X.mean(axis=0)) / X.std(axis=0)\n",
    "# 对数据集标准化，使用min-max标准化\n",
    "X2 = (X - X.min(axis=0)) / (X.max(axis=0) - X.min(axis=0))"
   ]
  },
  {
   "attachments": {},
   "cell_type": "markdown",
   "metadata": {},
   "source": [
    "## 2.模型实现"
   ]
  },
  {
   "attachments": {},
   "cell_type": "markdown",
   "metadata": {},
   "source": [
    "### 2.1 分类训练\n",
    "- 使用逻辑回归模型进行分类训练\n",
    "- 使用`sklearn`中的`train_test_split`包将数据集分为训练集和测试集，比例为7:3\n",
    "- 直接利用`sklearn`中的`LogisticRegression`完成训练，使用`liblinear`算法优化\n",
    "- 训练时使用L2正则化"
   ]
  },
  {
   "attachments": {},
   "cell_type": "markdown",
   "metadata": {},
   "source": [
    "#### 2.1.1使用没有进行数据标准化的数据进行训练"
   ]
  },
  {
   "cell_type": "code",
   "execution_count": 8,
   "metadata": {},
   "outputs": [],
   "source": [
    "# 划分数据集，训练集占70%，测试集占30%\n",
    "X_train, X_test, y_train, y_test = train_test_split(X, y, test_size=0.3, random_state=42)\n",
    "# 搭建逻辑回归模型\n",
    "model = LogisticRegression(solver='liblinear')\n",
    "model.fit(X_train, y_train);"
   ]
  },
  {
   "attachments": {},
   "cell_type": "markdown",
   "metadata": {},
   "source": [
    "#### 2.1.2使用进行了数据标准化的数据进行训练"
   ]
  },
  {
   "cell_type": "code",
   "execution_count": 9,
   "metadata": {},
   "outputs": [],
   "source": [
    "# 划分数据集，训练集占70%，测试集占30%\n",
    "X_train1, X_test1, y_train1, y_test1 = train_test_split(X1, y, test_size=0.3, random_state=42)\n",
    "# 使用z-score标准化后的数据集训练模型\n",
    "model1 = LogisticRegression(solver='liblinear')\n",
    "model1.fit(X_train1, y_train1);"
   ]
  },
  {
   "cell_type": "code",
   "execution_count": 10,
   "metadata": {},
   "outputs": [],
   "source": [
    "# 划分数据集，训练集占70%，测试集占30%\n",
    "X_train2, X_test2, y_train2, y_test2 = train_test_split(X2, y, test_size=0.3, random_state=42)\n",
    "# 使用min-max标准化后的数据集训练模型\n",
    "model2 = LogisticRegression(solver='liblinear')\n",
    "model2.fit(X_train2, y_train2);"
   ]
  },
  {
   "attachments": {},
   "cell_type": "markdown",
   "metadata": {},
   "source": [
    "### 2.2 模型评估\n",
    "- 使用`predict`方法对测试集进行预测，计算模型在测试集上的准确率\n",
    "- 使用`sklearn`中的`confusion_matrix`方法计算混淆矩阵\n",
    "- 使用`sklearn`中的`classification_report`方法计算分类报告\n",
    "- 并将混淆矩阵绘制成热力图"
   ]
  },
  {
   "attachments": {},
   "cell_type": "markdown",
   "metadata": {},
   "source": [
    "#### 2.2.1评估使用无数据标准化训练的模型"
   ]
  },
  {
   "cell_type": "code",
   "execution_count": 11,
   "metadata": {},
   "outputs": [
    {
     "name": "stdout",
     "output_type": "stream",
     "text": [
      "Test accuracy: 0.9649122807017544\n",
      "confusion matrix:\n",
      "           Predicted 0  Predicted 1\n",
      "Actual 0           59            4\n",
      "Actual 1            2          106\n"
     ]
    }
   ],
   "source": [
    "# 在测试集上进行预测并计算准确率\n",
    "y_pred = model.predict(X_test)\n",
    "accuracy = accuracy_score(y_test, y_pred)\n",
    "print(\"Test accuracy:\", accuracy)\n",
    "# 计算分类报告\n",
    "cr = classification_report(y_test, y_pred)\n",
    "# print(\"Classification report:\\n\", cr)\n",
    "# 计算混淆矩阵\n",
    "cm = confusion_matrix(y_test, y_pred)\n",
    "# 将混淆矩阵转换成DataFrame\n",
    "cm_df = pd.DataFrame(cm, index=['Actual 0', 'Actual 1'], columns=['Predicted 0', 'Predicted 1'])\n",
    "print('confusion matrix:\\n',cm_df)\n",
    "# 绘制混淆矩阵\n",
    "# sns.heatmap(cm, annot=True, cmap='Blues', fmt='g')\n",
    "# plt.xlabel('Predicted')\n",
    "# plt.ylabel('True')\n",
    "# plt.show()"
   ]
  },
  {
   "attachments": {},
   "cell_type": "markdown",
   "metadata": {},
   "source": [
    "#### 2.2.2评估使用数据标准化训练的模型"
   ]
  },
  {
   "cell_type": "code",
   "execution_count": 12,
   "metadata": {},
   "outputs": [
    {
     "name": "stdout",
     "output_type": "stream",
     "text": [
      "Test accuracy: 0.9824561403508771\n",
      "confusion matrix:\n",
      "           Predicted 0  Predicted 1\n",
      "Actual 0           62            1\n",
      "Actual 1            2          106\n"
     ]
    }
   ],
   "source": [
    "# 在测试集上进行预测并计算准确率\n",
    "y_pred1 = model1.predict(X_test1)\n",
    "accuracy1 = accuracy_score(y_test1, y_pred1)\n",
    "print(\"Test accuracy:\", accuracy1)\n",
    "# 计算分类报告\n",
    "cr1 = classification_report(y_test1, y_pred1)\n",
    "# print(\"Classification report:\\n\", cr1)\n",
    "# 计算混淆矩阵\n",
    "cm1 = confusion_matrix(y_test1, y_pred1)\n",
    "# 将混淆矩阵转换成DataFrame\n",
    "cm_df1 = pd.DataFrame(cm1, index=['Actual 0', 'Actual 1'], columns=['Predicted 0', 'Predicted 1'])\n",
    "print('confusion matrix:\\n',cm_df1)\n",
    "# 绘制混淆矩阵\n",
    "# sns.heatmap(cm1, annot=True, cmap='Blues', fmt='g')\n",
    "# plt.xlabel('Predicted')\n",
    "# plt.ylabel('True')\n",
    "# plt.show()"
   ]
  },
  {
   "cell_type": "code",
   "execution_count": 13,
   "metadata": {},
   "outputs": [
    {
     "name": "stdout",
     "output_type": "stream",
     "text": [
      "Test accuracy: 0.9649122807017544\n",
      "confusion matrix:\n",
      "           Predicted 0  Predicted 1\n",
      "Actual 0           58            5\n",
      "Actual 1            1          107\n"
     ]
    }
   ],
   "source": [
    "# 在测试集上进行预测并计算准确率\n",
    "y_pred2 = model2.predict(X_test2)\n",
    "accuracy2 = accuracy_score(y_test2, y_pred2)\n",
    "print(\"Test accuracy:\", accuracy2)\n",
    "# 计算分类报告\n",
    "cr2 = classification_report(y_test2, y_pred2)\n",
    "# print(\"Classification report:\\n\", cr2)\n",
    "# 计算混淆矩阵\n",
    "cm2 = confusion_matrix(y_test2, y_pred2)\n",
    "# 将混淆矩阵转换成DataFrame\n",
    "cm_df2 = pd.DataFrame(cm2, index=['Actual 0', 'Actual 1'], columns=['Predicted 0', 'Predicted 1'])\n",
    "print('confusion matrix:\\n',cm_df2)\n",
    "# 绘制混淆矩阵\n",
    "# sns.heatmap(cm2, annot=True, cmap='Blues', fmt='g')\n",
    "# plt.xlabel('Predicted')\n",
    "# plt.ylabel('True')\n",
    "# plt.show()"
   ]
  },
  {
   "attachments": {},
   "cell_type": "markdown",
   "metadata": {},
   "source": [
    "#### 2.2.3对模型表现进行评估分析"
   ]
  },
  {
   "cell_type": "code",
   "execution_count": 14,
   "metadata": {},
   "outputs": [
    {
     "name": "stdout",
     "output_type": "stream",
     "text": [
      "不标准化数据集的分类报告：\n",
      "               precision    recall  f1-score   support\n",
      "\n",
      "         0.0       0.97      0.94      0.95        63\n",
      "         1.0       0.96      0.98      0.97       108\n",
      "\n",
      "    accuracy                           0.96       171\n",
      "   macro avg       0.97      0.96      0.96       171\n",
      "weighted avg       0.96      0.96      0.96       171\n",
      " \n",
      "z-score标准化数据集的分类报告：\n",
      "               precision    recall  f1-score   support\n",
      "\n",
      "         0.0       0.97      0.98      0.98        63\n",
      "         1.0       0.99      0.98      0.99       108\n",
      "\n",
      "    accuracy                           0.98       171\n",
      "   macro avg       0.98      0.98      0.98       171\n",
      "weighted avg       0.98      0.98      0.98       171\n",
      " \n",
      "min-max标准化数据集的分类报告：\n",
      "               precision    recall  f1-score   support\n",
      "\n",
      "         0.0       0.98      0.92      0.95        63\n",
      "         1.0       0.96      0.99      0.97       108\n",
      "\n",
      "    accuracy                           0.96       171\n",
      "   macro avg       0.97      0.96      0.96       171\n",
      "weighted avg       0.97      0.96      0.96       171\n",
      "\n"
     ]
    }
   ],
   "source": [
    "# print('不标准化数据集的准确率：', accuracy, '\\nz-score标准化数据集的准确率：', accuracy1, '\\nmin-max标准化数据集的准确率：', accuracy2)\n",
    "print('不标准化数据集的分类报告：\\n', cr, '\\nz-score标准化数据集的分类报告：\\n', cr1, '\\nmin-max标准化数据集的分类报告：\\n', cr2)"
   ]
  },
  {
   "attachments": {},
   "cell_type": "markdown",
   "metadata": {},
   "source": [
    "分析上述结果可知：\n",
    "\n",
    "- 对数据集使用**z-score标准化**后的提升效果最好，min-max标准化对本数据的提升效果一般\n",
    "- z-score标准化后的模型在测试集上的**准确率**为0.9824561403508771\n",
    "- 其在测试集上的**混淆矩阵**可见下表，可见模型在预测患癌症上表现已经很好，错分数量非常少\n",
    "- 使用逻辑回归模型能够较好地完成本次任务\n",
    "\n",
    "|              | 预测不患癌症 | 预测患癌症 |\n",
    "| ------------ | ------------ | ---------- |\n",
    "| 实际不患癌症 | 62           | 1          |\n",
    "| 实际患癌症 | 2            | 106        |\n"
   ]
  },
  {
   "attachments": {},
   "cell_type": "markdown",
   "metadata": {},
   "source": [
    "### 2.3.进一步优化探索\n",
    "\n",
    "#### 2.3.1 网格化搜索超参数\n",
    "- 使用`sklearn`中的`GridSearchCV`方法对模型进行进一步优化"
   ]
  },
  {
   "cell_type": "code",
   "execution_count": 15,
   "metadata": {},
   "outputs": [
    {
     "name": "stdout",
     "output_type": "stream",
     "text": [
      "Best parameters: {'C': 0.1, 'penalty': 'l2', 'solver': 'liblinear'}\n",
      "Test accuracy: 0.9941520467836257\n",
      "Classification report:\n",
      "               precision    recall  f1-score   support\n",
      "\n",
      "         0.0       1.00      0.98      0.99        63\n",
      "         1.0       0.99      1.00      1.00       108\n",
      "\n",
      "    accuracy                           0.99       171\n",
      "   macro avg       1.00      0.99      0.99       171\n",
      "weighted avg       0.99      0.99      0.99       171\n",
      "\n",
      "confusion matrix:\n",
      "           Predicted 0  Predicted 1\n",
      "Actual 0           62            1\n",
      "Actual 1            0          108\n"
     ]
    }
   ],
   "source": [
    "from sklearn.model_selection import GridSearchCV\n",
    "\n",
    "# 定义超参数的取值范围\n",
    "param_grid = {'C': [0.001, 0.01, 0.1, 1, 10, 100, 1000], 'penalty': ['l1', 'l2'], 'solver': ['liblinear', 'saga']}\n",
    "# 使用grid search进行超参数调优\n",
    "grid = GridSearchCV(LogisticRegression(max_iter=30000), param_grid, cv=5, )\n",
    "# 划分数据集，训练集占70%，测试集占30%\n",
    "X_train3, X_test3, y_train3, y_test3 = train_test_split(X1, y, test_size=0.3, random_state=42)\n",
    "# 使用z-score标准化后的数据集训练模型\n",
    "grid.fit(X_train3, y_train3)\n",
    "# 输出最佳超参数\n",
    "print('Best parameters:', grid.best_params_)\n",
    "\n",
    "# 在测试集上进行预测并计算准确率\n",
    "y_pred3 = grid.predict(X_test3)\n",
    "accuracy3 = accuracy_score(y_test3, y_pred3)\n",
    "print(\"Test accuracy:\", accuracy3)\n",
    "# 计算分类报告\n",
    "cr3 = classification_report(y_test3, y_pred3)\n",
    "print(\"Classification report:\\n\", cr3)\n",
    "# 计算混淆矩阵\n",
    "cm3 = confusion_matrix(y_test3, y_pred3)\n",
    "# 将混淆矩阵转换成DataFrame\n",
    "cm_df3 = pd.DataFrame(cm3, index=['Actual 0', 'Actual 1'], columns=['Predicted 0', 'Predicted 1'])\n",
    "print('confusion matrix:\\n',cm_df3)\n",
    "# 绘制混淆矩阵\n",
    "# sns.heatmap(cm3, annot=True, cmap='Blues', fmt='g')\n",
    "# plt.xlabel('Predicted')\n",
    "# plt.ylabel('True')\n",
    "# plt.show()\n"
   ]
  },
  {
   "attachments": {},
   "cell_type": "markdown",
   "metadata": {},
   "source": [
    "#### 2.3.2 搜索得到的最优模型\n",
    "\n",
    "- 对数据集使用**z-score标准化**\n",
    "- 使用`liblinear`算法优化\n",
    "- 使用`L2`正则化\n",
    "- 正则化系数为`0.1`\n",
    "- 最优模型在测试集上的**准确率**为`0.9941520467836257`\n",
    "- 其在测试集上的**混淆矩阵**可见下表，可见效果已经非常卓越\n",
    "\n",
    "|              | 预测不患癌症 | 预测患癌症 |\n",
    "| ------------ | ------------ | ---------- |\n",
    "| 实际不患癌症 | 62           | 1          |\n",
    "| 实际患癌症 | 0            | 108        |"
   ]
  },
  {
   "attachments": {},
   "cell_type": "markdown",
   "metadata": {},
   "source": [
    "## 3.参数与测试样本情况\n",
    "- 使用`sklearn`中的`.coef_`和`.intercept_`属性获取模型参数并显示\n",
    "- 计算每一个测试样本对应的y和f(y)值，画出y与f(y)的散点图，其中正样本以红色表示，负样本以蓝色表示"
   ]
  },
  {
   "cell_type": "code",
   "execution_count": 16,
   "metadata": {},
   "outputs": [
    {
     "name": "stdout",
     "output_type": "stream",
     "text": [
      "Logistic Regression Model Parameters:\n",
      "k0: 0.32606596633945034\n",
      "k1: -0.33322662108056417\n",
      "k2: -0.3658205419149984\n",
      "k3: -0.3153479791809411\n",
      "k4: -0.34985876706035246\n",
      "k5: -0.1511402376686136\n",
      "k6: 0.029707744397074184\n",
      "k7: -0.3746319635521484\n",
      "k8: -0.4759380201037427\n",
      "k9: -0.030710738454875434\n",
      "k10: 0.18986690637353182\n",
      "k11: -0.48056172922106866\n",
      "k12: 0.012091015025896764\n",
      "k13: -0.3376938356425488\n",
      "k14: -0.385263833329643\n",
      "k15: -0.05969075759429216\n",
      "k16: 0.23655645556456759\n",
      "k17: 0.017941567250447783\n",
      "k18: -0.11036243460819434\n",
      "k19: 0.15017633110517115\n",
      "k20: 0.2521576424407607\n",
      "k21: -0.4616042658361095\n",
      "k22: -0.5556315984834358\n",
      "k23: -0.40976235234626984\n",
      "k24: -0.4417443710487516\n",
      "k25: -0.36408542716984243\n",
      "k26: -0.1373509855192992\n",
      "k27: -0.41524782714502706\n",
      "k28: -0.45387608958591613\n",
      "k29: -0.4584153522172665\n",
      "k30: -0.09201078632103997\n"
     ]
    },
    {
     "data": {
      "image/png": "[encoded data removed]",
      "text/plain": [
       "<Figure size 640x480 with 1 Axes>"
      ]
     },
     "metadata": {},
     "output_type": "display_data"
    }
   ],
   "source": [
    "# 输出逻辑回归模型参数\n",
    "model3=grid.best_estimator_\n",
    "\n",
    "lr_coef3 = np.concatenate(([model3.intercept_], model3.coef_.T), axis=0)\n",
    "print('Logistic Regression Model Parameters:')\n",
    "for i in range(lr_coef3.shape[0]):\n",
    "    print(f'k{i}: {lr_coef3[i,0]}')\n",
    "# 计算测试样本的y值和f(y)值\n",
    "# y_pred3 = model3.predict(X_test3)\n",
    "y_score3 = model3.decision_function(X_test3)\n",
    "f_y3 = 1 / (1 + np.exp(-y_score3))\n",
    "# 画出y与f(y)的散点图\n",
    "colors = ['b', 'r']\n",
    "for i, color in enumerate(colors):\n",
    "    plt.scatter(y_score3[y_test1 == i], f_y3[y_test1 == i], color=color, alpha=.4)\n",
    "plt.xlabel('y')\n",
    "plt.ylabel('f(y)')\n",
    "plt.show()"
   ]
  },
  {
   "cell_type": "code",
   "execution_count": 17,
   "metadata": {},
   "outputs": [
    {
     "data": {
      "image/png": "[encoded data removed]",
      "text/plain": [
       "<Figure size 640x480 with 1 Axes>"
      ]
     },
     "metadata": {},
     "output_type": "display_data"
    }
   ],
   "source": [
    "temp = pd.Series(np.squeeze(model3.coef_), index=X1.columns)\n",
    "temp.plot(kind='bar')\n",
    "plt.show()\n",
    "# temp.describe()"
   ]
  },
  {
   "attachments": {},
   "cell_type": "markdown",
   "metadata": {},
   "source": [
    "分析上述结果可知：\n",
    "\n",
    "- 模型的截距为0.32606596633945034\n",
    "- 30个特征中对判断癌症结果影响最大的为`worst texture`，最小的为`texture error`\n",
    "- 从逻辑回归判别函数散点图中可见，模型的预测结果与实际结果基本吻合，测试集上只有一个样本预测错误\n",
    "- 在散点图上也可以看出，测试样本的f(y)较为集中在`0`和`1`的位置，说明模型的划分效果比较好"
   ]
  }
 ],
 "metadata": {
  "kernelspec": {
   "display_name": "base",
   "language": "python",
   "name": "python3"
  },
  "language_info": {
   "codemirror_mode": {
    "name": "ipython",
    "version": 3
   },
   "file_extension": ".py",
   "mimetype": "text/x-python",
   "name": "python",
   "nbconvert_exporter": "python",
   "pygments_lexer": "ipython3",
   "version": "3.10.10"
  },
  "orig_nbformat": 4
 },
 "nbformat": 4,
 "nbformat_minor": 2
}
