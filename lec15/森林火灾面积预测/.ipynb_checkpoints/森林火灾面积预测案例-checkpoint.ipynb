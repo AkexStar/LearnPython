{
 "cells": [
  {
   "cell_type": "markdown",
   "metadata": {},
   "source": [
    "# 森林火灾面积预测案例"
   ]
  },
  {
   "cell_type": "markdown",
   "metadata": {},
   "source": [
    "森林火灾是一种突发性强、破坏性大、处置救助较为困难的自然灾害。森林火灾不仅烧毁林木，直接减少森林面积，而且严重破坏森林结构和森林环境，导致森林生态系统失去平衡，森林生物量下降，生产力减弱，益兽益鸟减少，甚至造成人畜伤亡。本案例通过探索性分析（EDA）和机器学习构建线性回归和决策树模型，预测森林火灾的面积，并分析什么特征是发生森林火灾的重要因素。"
   ]
  },
  {
   "cell_type": "markdown",
   "metadata": {},
   "source": [
    "## 1 数据集描述与读取"
   ]
  },
  {
   "cell_type": "markdown",
   "metadata": {},
   "source": [
    "我们采用2007年葡萄牙蒙特西尼奥公园森林火灾的相关数据。该数据集来自UCI机器学习库，数据中包含地理位置、天气等信息，具体的变量描述如下表所示："
   ]
  },
  {
   "cell_type": "markdown",
   "metadata": {},
   "source": [
    "| 量名 | 变量解释 |\n",
    "|  ----  | ----  |\n",
    "|X\t| 公园地图的X轴空间坐标 |\n",
    "|Y\t| 公园地图的Y轴空间坐标 |\n",
    "| month\t| 火灾发生的月份 |\n",
    "| day\t| 火灾发生的星期 |\n",
    "| FFMC\t| FWI系统的FFMC指数 |\n",
    "|DMC\t|FWI系统的DMC指数|\n",
    "|DC\t|FWI系统的DC指数|\n",
    "|ISI\t|FWI系统的ISI指数|\n",
    "|temp\t|摄氏温度|\n",
    "|RH\t|相对湿度|\n",
    "|wind\t|风速|\n",
    "|rain\t|降雨量|\n",
    "|area\t|火灾面积|"
   ]
  },
  {
   "cell_type": "markdown",
   "metadata": {},
   "source": [
    "其中FWI是指火险气候指数（Fire Weather Index）。FWI系统中，FFMC指数是细小可燃物湿度码，代表森林细小可燃物的含水率；DMC指数是粗腐殖质湿度码，代表森林腐殖质上层的地表可燃物的含水率；DC指数是干旱码，是长期干旱对森林可燃物的影响的指数；ISI指数是初始蔓延指数，代表了火势蔓延的等级。"
   ]
  },
  {
   "cell_type": "markdown",
   "metadata": {},
   "source": [
    "进行数据分析之前，我们首先从文件中加载数据集："
   ]
  },
  {
   "cell_type": "code",
   "execution_count": 1,
   "metadata": {},
   "outputs": [],
   "source": [
    "# 忽略警告信息\n",
    "import warnings \n",
    "warnings.filterwarnings(\"ignore\")\n",
    "\n",
    "import pandas as pd\n",
    "fire = pd.read_csv('./forestfires.csv')"
   ]
  },
  {
   "cell_type": "markdown",
   "metadata": {},
   "source": [
    "## 2 探索性数据分析"
   ]
  },
  {
   "cell_type": "markdown",
   "metadata": {},
   "source": [
    "### 2.1 查看数据类型\n",
    "使用info()函数输出数据集的基本信息，查看特征的类型："
   ]
  },
  {
   "cell_type": "code",
   "execution_count": 2,
   "metadata": {},
   "outputs": [
    {
     "name": "stdout",
     "output_type": "stream",
     "text": [
      "<class 'pandas.core.frame.DataFrame'>\n",
      "RangeIndex: 517 entries, 0 to 516\n",
      "Data columns (total 13 columns):\n",
      " #   Column  Non-Null Count  Dtype  \n",
      "---  ------  --------------  -----  \n",
      " 0   X       517 non-null    int64  \n",
      " 1   Y       517 non-null    int64  \n",
      " 2   month   517 non-null    object \n",
      " 3   day     517 non-null    object \n",
      " 4   FFMC    517 non-null    float64\n",
      " 5   DMC     517 non-null    float64\n",
      " 6   DC      517 non-null    float64\n",
      " 7   ISI     517 non-null    float64\n",
      " 8   temp    517 non-null    float64\n",
      " 9   RH      517 non-null    int64  \n",
      " 10  wind    517 non-null    float64\n",
      " 11  rain    517 non-null    float64\n",
      " 12  area    517 non-null    float64\n",
      "dtypes: float64(8), int64(3), object(2)\n",
      "memory usage: 52.6+ KB\n"
     ]
    }
   ],
   "source": [
    "fire.info()"
   ]
  },
  {
   "cell_type": "markdown",
   "metadata": {},
   "source": [
    "从输出结果可以看出，该数据集一共有517条数据，包含13个变量，不存在缺失值。注意到month和day这两个特征不是数值型的数据，X、Y和RH这三个特征是整型数据，其余的特征是浮点型数据。"
   ]
  },
  {
   "cell_type": "markdown",
   "metadata": {},
   "source": [
    "为了更具体地查看数据的形式，对数据集中的数据建立直观的感受，我们用head()函数输出数据集中的前5行数据："
   ]
  },
  {
   "cell_type": "code",
   "execution_count": 3,
   "metadata": {},
   "outputs": [
    {
     "data": {
      "text/html": [
       "<div>\n",
       "<style scoped>\n",
       "    .dataframe tbody tr th:only-of-type {\n",
       "        vertical-align: middle;\n",
       "    }\n",
       "\n",
       "    .dataframe tbody tr th {\n",
       "        vertical-align: top;\n",
       "    }\n",
       "\n",
       "    .dataframe thead th {\n",
       "        text-align: right;\n",
       "    }\n",
       "</style>\n",
       "<table border=\"1\" class=\"dataframe\">\n",
       "  <thead>\n",
       "    <tr style=\"text-align: right;\">\n",
       "      <th></th>\n",
       "      <th>X</th>\n",
       "      <th>Y</th>\n",
       "      <th>month</th>\n",
       "      <th>day</th>\n",
       "      <th>FFMC</th>\n",
       "      <th>DMC</th>\n",
       "      <th>DC</th>\n",
       "      <th>ISI</th>\n",
       "      <th>temp</th>\n",
       "      <th>RH</th>\n",
       "      <th>wind</th>\n",
       "      <th>rain</th>\n",
       "      <th>area</th>\n",
       "    </tr>\n",
       "  </thead>\n",
       "  <tbody>\n",
       "    <tr>\n",
       "      <th>0</th>\n",
       "      <td>7</td>\n",
       "      <td>5</td>\n",
       "      <td>mar</td>\n",
       "      <td>fri</td>\n",
       "      <td>86.2</td>\n",
       "      <td>26.2</td>\n",
       "      <td>94.3</td>\n",
       "      <td>5.1</td>\n",
       "      <td>8.2</td>\n",
       "      <td>51</td>\n",
       "      <td>6.7</td>\n",
       "      <td>0.0</td>\n",
       "      <td>0.0</td>\n",
       "    </tr>\n",
       "    <tr>\n",
       "      <th>1</th>\n",
       "      <td>7</td>\n",
       "      <td>4</td>\n",
       "      <td>oct</td>\n",
       "      <td>tue</td>\n",
       "      <td>90.6</td>\n",
       "      <td>35.4</td>\n",
       "      <td>669.1</td>\n",
       "      <td>6.7</td>\n",
       "      <td>18.0</td>\n",
       "      <td>33</td>\n",
       "      <td>0.9</td>\n",
       "      <td>0.0</td>\n",
       "      <td>0.0</td>\n",
       "    </tr>\n",
       "    <tr>\n",
       "      <th>2</th>\n",
       "      <td>7</td>\n",
       "      <td>4</td>\n",
       "      <td>oct</td>\n",
       "      <td>sat</td>\n",
       "      <td>90.6</td>\n",
       "      <td>43.7</td>\n",
       "      <td>686.9</td>\n",
       "      <td>6.7</td>\n",
       "      <td>14.6</td>\n",
       "      <td>33</td>\n",
       "      <td>1.3</td>\n",
       "      <td>0.0</td>\n",
       "      <td>0.0</td>\n",
       "    </tr>\n",
       "    <tr>\n",
       "      <th>3</th>\n",
       "      <td>8</td>\n",
       "      <td>6</td>\n",
       "      <td>mar</td>\n",
       "      <td>fri</td>\n",
       "      <td>91.7</td>\n",
       "      <td>33.3</td>\n",
       "      <td>77.5</td>\n",
       "      <td>9.0</td>\n",
       "      <td>8.3</td>\n",
       "      <td>97</td>\n",
       "      <td>4.0</td>\n",
       "      <td>0.2</td>\n",
       "      <td>0.0</td>\n",
       "    </tr>\n",
       "    <tr>\n",
       "      <th>4</th>\n",
       "      <td>8</td>\n",
       "      <td>6</td>\n",
       "      <td>mar</td>\n",
       "      <td>sun</td>\n",
       "      <td>89.3</td>\n",
       "      <td>51.3</td>\n",
       "      <td>102.2</td>\n",
       "      <td>9.6</td>\n",
       "      <td>11.4</td>\n",
       "      <td>99</td>\n",
       "      <td>1.8</td>\n",
       "      <td>0.0</td>\n",
       "      <td>0.0</td>\n",
       "    </tr>\n",
       "  </tbody>\n",
       "</table>\n",
       "</div>"
      ],
      "text/plain": [
       "   X  Y month  day  FFMC   DMC     DC  ISI  temp  RH  wind  rain  area\n",
       "0  7  5   mar  fri  86.2  26.2   94.3  5.1   8.2  51   6.7   0.0   0.0\n",
       "1  7  4   oct  tue  90.6  35.4  669.1  6.7  18.0  33   0.9   0.0   0.0\n",
       "2  7  4   oct  sat  90.6  43.7  686.9  6.7  14.6  33   1.3   0.0   0.0\n",
       "3  8  6   mar  fri  91.7  33.3   77.5  9.0   8.3  97   4.0   0.2   0.0\n",
       "4  8  6   mar  sun  89.3  51.3  102.2  9.6  11.4  99   1.8   0.0   0.0"
      ]
     },
     "execution_count": 3,
     "metadata": {},
     "output_type": "execute_result"
    }
   ],
   "source": [
    "fire.head()"
   ]
  },
  {
   "cell_type": "markdown",
   "metadata": {},
   "source": [
    "从输出结果可以看出，month特征的数据是月份的小写英文缩写，day特征的数据则是星期的小写英文缩写。"
   ]
  },
  {
   "cell_type": "markdown",
   "metadata": {},
   "source": [
    "### 2.2 数据的集中/离散趋势\n",
    "下一步，我们用describe()函数查看数据集中火灾面积的基本统计信息，包括均值，标准差，最小值，最大值和四分位数，并存储在area_des中："
   ]
  },
  {
   "cell_type": "code",
   "execution_count": 4,
   "metadata": {},
   "outputs": [
    {
     "data": {
      "text/plain": [
       "count     517.000000\n",
       "mean       12.847292\n",
       "std        63.655818\n",
       "min         0.000000\n",
       "25%         0.000000\n",
       "50%         0.520000\n",
       "75%         6.570000\n",
       "max      1090.840000\n",
       "Name: area, dtype: float64"
      ]
     },
     "execution_count": 4,
     "metadata": {},
     "output_type": "execute_result"
    }
   ],
   "source": [
    "area_des = fire['area'].describe()\n",
    "area_des"
   ]
  },
  {
   "cell_type": "markdown",
   "metadata": {},
   "source": [
    "注意到火灾面积的标准差为63.66，与均值12.85相比过大，这说明数据之间的离散程度较大。\n",
    "\n",
    "\n",
    "利用are_des中的数据，我们计算数据集中火灾面积数据的极差和四分位数间距："
   ]
  },
  {
   "cell_type": "code",
   "execution_count": 5,
   "metadata": {},
   "outputs": [
    {
     "name": "stdout",
     "output_type": "stream",
     "text": [
      "数据集中火灾面积数据的极差： 1090.84\n",
      "数据集中火灾面积数据的四分位数间距： 6.57\n"
     ]
    }
   ],
   "source": [
    "area_range = area_des['max'] - area_des['min']\n",
    "print(\"数据集中火灾面积数据的极差：\",area_range)\n",
    "\n",
    "quartile_deviation = area_des['75%'] - area_des['25%']\n",
    "print(\"数据集中火灾面积数据的四分位数间距：\", quartile_deviation)"
   ]
  },
  {
   "cell_type": "markdown",
   "metadata": {},
   "source": [
    "结果表明，数据集中火灾面积数据的极差很大，但四分位数间距很小，说明该列数据中存在一些离群点。"
   ]
  },
  {
   "cell_type": "markdown",
   "metadata": {},
   "source": [
    "### 2.3 数据的分布与可视化\n",
    "我们采用更直观的方法，将数据集中火灾面积这一列的数据通过直方图和箱线图进行展示，来查看数据的分布情况："
   ]
  },
  {
   "cell_type": "code",
   "execution_count": 6,
   "metadata": {},
   "outputs": [
    {
     "data": {
      "text/plain": [
       "<AxesSubplot:title={'center':'histogram'}, ylabel='Frequency'>"
      ]
     },
     "execution_count": 6,
     "metadata": {},
     "output_type": "execute_result"
    },
    {
     "data": {
      "image/png": "[encoded data removed]",
      "text/plain": [
       "<Figure size 432x288 with 1 Axes>"
      ]
     },
     "metadata": {
      "needs_background": "light"
     },
     "output_type": "display_data"
    }
   ],
   "source": [
    "import matplotlib.pyplot as plt\n",
    "%matplotlib inline\n",
    "plt.rcParams['axes.unicode_minus'] = False #用于在图中显示负号\n",
    "\n",
    "# 通过分布直方图查看area列数据的分布情况\n",
    "fire['area'].plot(kind='hist', title='histogram')"
   ]
  },
  {
   "cell_type": "code",
   "execution_count": 7,
   "metadata": {},
   "outputs": [
    {
     "data": {
      "image/png": "[encoded data removed]",
      "text/plain": [
       "<Figure size 432x288 with 1 Axes>"
      ]
     },
     "metadata": {
      "needs_background": "light"
     },
     "output_type": "display_data"
    }
   ],
   "source": [
    "# 通过箱线图查看area列数据的分布情况\n",
    "fire['area'].plot.box()\n",
    "plt.grid(linestyle=\"--\",  alpha=0.5)\n",
    "plt.show()"
   ]
  },
  {
   "cell_type": "markdown",
   "metadata": {},
   "source": [
    "从上图中我们可以看出，数据主要分布在0~200之间，但也有少量数据大于600，area数据中存在一些离群点。"
   ]
  },
  {
   "cell_type": "markdown",
   "metadata": {},
   "source": [
    "下面，我们集中对刚刚发现的问题进行处理。首先，我们将数据集中火灾面积大于600的离群点去掉："
   ]
  },
  {
   "cell_type": "code",
   "execution_count": 8,
   "metadata": {},
   "outputs": [],
   "source": [
    "fire = fire[fire[\"area\"]<600]"
   ]
  },
  {
   "cell_type": "markdown",
   "metadata": {},
   "source": [
    "然后我们将month和day列的数据转换成数值型："
   ]
  },
  {
   "cell_type": "code",
   "execution_count": 9,
   "metadata": {},
   "outputs": [
    {
     "data": {
      "text/html": [
       "<div>\n",
       "<style scoped>\n",
       "    .dataframe tbody tr th:only-of-type {\n",
       "        vertical-align: middle;\n",
       "    }\n",
       "\n",
       "    .dataframe tbody tr th {\n",
       "        vertical-align: top;\n",
       "    }\n",
       "\n",
       "    .dataframe thead th {\n",
       "        text-align: right;\n",
       "    }\n",
       "</style>\n",
       "<table border=\"1\" class=\"dataframe\">\n",
       "  <thead>\n",
       "    <tr style=\"text-align: right;\">\n",
       "      <th></th>\n",
       "      <th>X</th>\n",
       "      <th>Y</th>\n",
       "      <th>month</th>\n",
       "      <th>day</th>\n",
       "      <th>FFMC</th>\n",
       "      <th>DMC</th>\n",
       "      <th>DC</th>\n",
       "      <th>ISI</th>\n",
       "      <th>temp</th>\n",
       "      <th>RH</th>\n",
       "      <th>wind</th>\n",
       "      <th>rain</th>\n",
       "      <th>area</th>\n",
       "    </tr>\n",
       "  </thead>\n",
       "  <tbody>\n",
       "    <tr>\n",
       "      <th>0</th>\n",
       "      <td>7</td>\n",
       "      <td>5</td>\n",
       "      <td>3</td>\n",
       "      <td>5</td>\n",
       "      <td>86.2</td>\n",
       "      <td>26.2</td>\n",
       "      <td>94.3</td>\n",
       "      <td>5.1</td>\n",
       "      <td>8.2</td>\n",
       "      <td>51</td>\n",
       "      <td>6.7</td>\n",
       "      <td>0.0</td>\n",
       "      <td>0.0</td>\n",
       "    </tr>\n",
       "    <tr>\n",
       "      <th>1</th>\n",
       "      <td>7</td>\n",
       "      <td>4</td>\n",
       "      <td>10</td>\n",
       "      <td>2</td>\n",
       "      <td>90.6</td>\n",
       "      <td>35.4</td>\n",
       "      <td>669.1</td>\n",
       "      <td>6.7</td>\n",
       "      <td>18.0</td>\n",
       "      <td>33</td>\n",
       "      <td>0.9</td>\n",
       "      <td>0.0</td>\n",
       "      <td>0.0</td>\n",
       "    </tr>\n",
       "    <tr>\n",
       "      <th>2</th>\n",
       "      <td>7</td>\n",
       "      <td>4</td>\n",
       "      <td>10</td>\n",
       "      <td>6</td>\n",
       "      <td>90.6</td>\n",
       "      <td>43.7</td>\n",
       "      <td>686.9</td>\n",
       "      <td>6.7</td>\n",
       "      <td>14.6</td>\n",
       "      <td>33</td>\n",
       "      <td>1.3</td>\n",
       "      <td>0.0</td>\n",
       "      <td>0.0</td>\n",
       "    </tr>\n",
       "    <tr>\n",
       "      <th>3</th>\n",
       "      <td>8</td>\n",
       "      <td>6</td>\n",
       "      <td>3</td>\n",
       "      <td>5</td>\n",
       "      <td>91.7</td>\n",
       "      <td>33.3</td>\n",
       "      <td>77.5</td>\n",
       "      <td>9.0</td>\n",
       "      <td>8.3</td>\n",
       "      <td>97</td>\n",
       "      <td>4.0</td>\n",
       "      <td>0.2</td>\n",
       "      <td>0.0</td>\n",
       "    </tr>\n",
       "    <tr>\n",
       "      <th>4</th>\n",
       "      <td>8</td>\n",
       "      <td>6</td>\n",
       "      <td>3</td>\n",
       "      <td>7</td>\n",
       "      <td>89.3</td>\n",
       "      <td>51.3</td>\n",
       "      <td>102.2</td>\n",
       "      <td>9.6</td>\n",
       "      <td>11.4</td>\n",
       "      <td>99</td>\n",
       "      <td>1.8</td>\n",
       "      <td>0.0</td>\n",
       "      <td>0.0</td>\n",
       "    </tr>\n",
       "  </tbody>\n",
       "</table>\n",
       "</div>"
      ],
      "text/plain": [
       "   X  Y  month  day  FFMC   DMC     DC  ISI  temp  RH  wind  rain  area\n",
       "0  7  5      3    5  86.2  26.2   94.3  5.1   8.2  51   6.7   0.0   0.0\n",
       "1  7  4     10    2  90.6  35.4  669.1  6.7  18.0  33   0.9   0.0   0.0\n",
       "2  7  4     10    6  90.6  43.7  686.9  6.7  14.6  33   1.3   0.0   0.0\n",
       "3  8  6      3    5  91.7  33.3   77.5  9.0   8.3  97   4.0   0.2   0.0\n",
       "4  8  6      3    7  89.3  51.3  102.2  9.6  11.4  99   1.8   0.0   0.0"
      ]
     },
     "execution_count": 9,
     "metadata": {},
     "output_type": "execute_result"
    }
   ],
   "source": [
    "# 将月份转换成数值型\n",
    "fire['month'] = fire['month'].map({'jan':1, 'feb':2, 'mar':3, 'apr':4, 'may':5, 'jun':6,\n",
    "                   'jul':7, 'aug':8, 'sep':9, 'oct':10, 'nov':11, 'dec':12})\n",
    "\n",
    "# 将星期转换成数值型\n",
    "fire['day'] = fire['day'].map({'mon':1, 'tue':2, 'wed':3, 'thu':4, 'fri':5, 'sat':6, 'sun':7})\n",
    "\n",
    "# 查看转换后的数据\n",
    "fire.head()"
   ]
  },
  {
   "cell_type": "markdown",
   "metadata": {},
   "source": [
    "处理完毕后，我们将火灾面积大于0的数据从数据集中筛选出来，按月份分组，通过条形图和核密度图进行展示，查看在每个月份发生火灾的次数分布情况。"
   ]
  },
  {
   "cell_type": "code",
   "execution_count": 10,
   "metadata": {},
   "outputs": [
    {
     "name": "stdout",
     "output_type": "stream",
     "text": [
      "2     10\n",
      "3     19\n",
      "4      4\n",
      "5      1\n",
      "6      8\n",
      "7     18\n",
      "8     98\n",
      "9     96\n",
      "10     5\n",
      "12     9\n",
      "Name: month, dtype: int64\n"
     ]
    },
    {
     "data": {
      "image/png": "[encoded data removed]",
      "text/plain": [
       "<Figure size 432x288 with 1 Axes>"
      ]
     },
     "metadata": {
      "needs_background": "light"
     },
     "output_type": "display_data"
    }
   ],
   "source": [
    "# 查看火灾面积不为0的数据\n",
    "area_not_0 = fire[fire['area']!= 0]\n",
    "\n",
    "#火灾发生时间的月份分布\n",
    "month_counts = area_not_0['month'].value_counts()\n",
    "month_counts.sort_index(inplace=True)\n",
    "print(month_counts)\n",
    "\n",
    "month_counts.plot(kind='bar', color = 'b')\n",
    "plt.xlabel(\"month\")\n",
    "plt.ylabel(\"counts\")\n",
    "plt.grid(linestyle = '--', alpha = 0.5)\n",
    "plt.show()"
   ]
  },
  {
   "cell_type": "code",
   "execution_count": 11,
   "metadata": {},
   "outputs": [
    {
     "data": {
      "text/plain": [
       "Text(0.5, 0, 'month')"
      ]
     },
     "execution_count": 11,
     "metadata": {},
     "output_type": "execute_result"
    },
    {
     "data": {
      "image/png": "[encoded data removed]",
      "text/plain": [
       "<Figure size 432x288 with 1 Axes>"
      ]
     },
     "metadata": {
      "needs_background": "light"
     },
     "output_type": "display_data"
    }
   ],
   "source": [
    "# 绘制火灾发生时间的月份分布的核密度图\n",
    "area_not_0['month'].sort_index().plot(kind = 'kde')\n",
    "plt.grid(linestyle = '--', alpha = 0.5)\n",
    "plt.xlim(1,12)\n",
    "plt.xlabel(\"month\")"
   ]
  },
  {
   "cell_type": "markdown",
   "metadata": {},
   "source": [
    "从两张图中可以看出，在8月份和9月份火灾发生的次数最多。"
   ]
  },
  {
   "cell_type": "markdown",
   "metadata": {},
   "source": [
    "接着我们按星期进行分组，然后通过折线图进行展示，查看发生火灾的次数情况："
   ]
  },
  {
   "cell_type": "code",
   "execution_count": 12,
   "metadata": {},
   "outputs": [
    {
     "name": "stdout",
     "output_type": "stream",
     "text": [
      "1    39\n",
      "2    36\n",
      "3    32\n",
      "4    30\n",
      "5    43\n",
      "6    41\n",
      "7    47\n",
      "Name: day, dtype: int64\n"
     ]
    },
    {
     "data": {
      "image/png": "[encoded data removed]",
      "text/plain": [
       "<Figure size 432x288 with 1 Axes>"
      ]
     },
     "metadata": {
      "needs_background": "light"
     },
     "output_type": "display_data"
    }
   ],
   "source": [
    "# 火灾发生时间的星期分布\n",
    "day_counts = area_not_0['day'].value_counts()\n",
    "day_counts.sort_index(inplace=True)\n",
    "print(day_counts)\n",
    "\n",
    "day_counts.plot(kind='line', color = 'r')\n",
    "plt.grid(linestyle = '--', alpha = 0.5)\n",
    "plt.xlabel(\"day\")\n",
    "plt.ylabel(\"counts\")\n",
    "plt.show()"
   ]
  },
  {
   "cell_type": "markdown",
   "metadata": {},
   "source": [
    "从上图可以看出，在周五周六周日火灾发生的次数最多。"
   ]
  },
  {
   "cell_type": "markdown",
   "metadata": {},
   "source": [
    "### 2.4 数据相关关系\n",
    "最后，我们绘制火灾发生的面积与FWI系统的FFMC指数、DMC指数、DC指数、ISI指数之间的散点图，查看火灾发生的面积与这些指数之间的关系："
   ]
  },
  {
   "cell_type": "code",
   "execution_count": 13,
   "metadata": {},
   "outputs": [
    {
     "data": {
      "image/png": "[encoded data removed]",
      "text/plain": [
       "<Figure size 720x720 with 4 Axes>"
      ]
     },
     "metadata": {
      "needs_background": "light"
     },
     "output_type": "display_data"
    }
   ],
   "source": [
    "ffmc = fire[\"FFMC\"]\n",
    "dmc = fire[\"DMC\"]\n",
    "dc = fire[\"DC\"]\n",
    "isi = fire[\"ISI\"]\n",
    "area = fire['area']\n",
    "\n",
    "fig = plt.figure(figsize = (10,10))\n",
    "ax1 = fig.add_subplot(221)\n",
    "ax1.scatter(ffmc, area)\n",
    "ax1.set_xlabel(\"FFMC指数\")\n",
    "ax1.set_ylabel(\"area\")\n",
    "ax1.set_title(\"火灾面积与FFCM指数之间的散点图\")\n",
    "\n",
    "ax2 = fig.add_subplot(222)\n",
    "ax2.scatter(dmc, area, color = 'r')\n",
    "ax2.set_xlabel(\"DMC指数\")\n",
    "ax2.set_ylabel(\"area\")\n",
    "ax2.set_title(\"火灾面积与DMC指数之间的散点图\")\n",
    "\n",
    "ax3 = fig.add_subplot(223)\n",
    "ax3.scatter(dc, area, color = 'g')\n",
    "ax3.set_xlabel(\"DC指数\")\n",
    "ax3.set_ylabel(\"area\")\n",
    "ax3.set_title(\"火灾面积与DC指数之间的散点图\")\n",
    "\n",
    "ax4 = fig.add_subplot(224)\n",
    "ax4.scatter(isi, area, color = 'y')\n",
    "ax4.set_xlabel(\"ISI指数\")\n",
    "ax4.set_ylabel(\"area\")\n",
    "ax4.set_title(\"火灾面积与ISI指数之间的散点图\")\n",
    "plt.rcParams['font.sans-serif']=['SimHei']\n",
    "plt.rcParams['axes.unicode_minus'] = False\n",
    "plt.show()"
   ]
  },
  {
   "cell_type": "markdown",
   "metadata": {},
   "source": [
    "从上面的散点图中，我们发现火灾发生的面积与FFMC指数、DMC指数、DC指数、ISI指数之间并没有明显的相关性，下面我们通过计算火灾发生的面积与这些指数之间的Perason相关系数，通过相关系数查看数据之间的相关程度："
   ]
  },
  {
   "cell_type": "code",
   "execution_count": 14,
   "metadata": {},
   "outputs": [
    {
     "data": {
      "text/html": [
       "<div>\n",
       "<style scoped>\n",
       "    .dataframe tbody tr th:only-of-type {\n",
       "        vertical-align: middle;\n",
       "    }\n",
       "\n",
       "    .dataframe tbody tr th {\n",
       "        vertical-align: top;\n",
       "    }\n",
       "\n",
       "    .dataframe thead th {\n",
       "        text-align: right;\n",
       "    }\n",
       "</style>\n",
       "<table border=\"1\" class=\"dataframe\">\n",
       "  <thead>\n",
       "    <tr style=\"text-align: right;\">\n",
       "      <th></th>\n",
       "      <th>FFMC</th>\n",
       "      <th>DMC</th>\n",
       "      <th>DC</th>\n",
       "      <th>ISI</th>\n",
       "      <th>area</th>\n",
       "    </tr>\n",
       "  </thead>\n",
       "  <tbody>\n",
       "    <tr>\n",
       "      <th>FFMC</th>\n",
       "      <td>1.000000</td>\n",
       "      <td>0.381352</td>\n",
       "      <td>0.329709</td>\n",
       "      <td>0.531246</td>\n",
       "      <td>0.028390</td>\n",
       "    </tr>\n",
       "    <tr>\n",
       "      <th>DMC</th>\n",
       "      <td>0.381352</td>\n",
       "      <td>1.000000</td>\n",
       "      <td>0.682422</td>\n",
       "      <td>0.302777</td>\n",
       "      <td>0.067048</td>\n",
       "    </tr>\n",
       "    <tr>\n",
       "      <th>DC</th>\n",
       "      <td>0.329709</td>\n",
       "      <td>0.682422</td>\n",
       "      <td>1.000000</td>\n",
       "      <td>0.228377</td>\n",
       "      <td>0.044267</td>\n",
       "    </tr>\n",
       "    <tr>\n",
       "      <th>ISI</th>\n",
       "      <td>0.531246</td>\n",
       "      <td>0.302777</td>\n",
       "      <td>0.228377</td>\n",
       "      <td>1.000000</td>\n",
       "      <td>-0.029655</td>\n",
       "    </tr>\n",
       "    <tr>\n",
       "      <th>area</th>\n",
       "      <td>0.028390</td>\n",
       "      <td>0.067048</td>\n",
       "      <td>0.044267</td>\n",
       "      <td>-0.029655</td>\n",
       "      <td>1.000000</td>\n",
       "    </tr>\n",
       "  </tbody>\n",
       "</table>\n",
       "</div>"
      ],
      "text/plain": [
       "          FFMC       DMC        DC       ISI      area\n",
       "FFMC  1.000000  0.381352  0.329709  0.531246  0.028390\n",
       "DMC   0.381352  1.000000  0.682422  0.302777  0.067048\n",
       "DC    0.329709  0.682422  1.000000  0.228377  0.044267\n",
       "ISI   0.531246  0.302777  0.228377  1.000000 -0.029655\n",
       "area  0.028390  0.067048  0.044267 -0.029655  1.000000"
      ]
     },
     "execution_count": 14,
     "metadata": {},
     "output_type": "execute_result"
    }
   ],
   "source": [
    "# 计算Pearson相关系数\n",
    "corr_data = fire[['FFMC', 'DMC', 'DC', 'ISI', 'area']]\n",
    "corr_data.corr()"
   ]
  },
  {
   "cell_type": "markdown",
   "metadata": {},
   "source": [
    "通过上面的相关系数矩阵，我们发现，火灾发生的面积与FFMC指数、DMC指数、DC指数、ISI指数之间并没有明显的相关性。但我们发现FFMC指数和ISI指数，DMC指数和DC指数之间的相关性较强。"
   ]
  },
  {
   "cell_type": "markdown",
   "metadata": {},
   "source": [
    "## 3 机器学习方法\n",
    "### 3.1 Min-Max标准化处理\n",
    "我们使用sklearn中的MinMaxScaler方法，对数据集中除了X、Y、month、day之外的列做Min-Max标准化，使得处理后的数据取值分布在[0，1]区间上："
   ]
  },
  {
   "cell_type": "code",
   "execution_count": 15,
   "metadata": {},
   "outputs": [],
   "source": [
    "# 最小—最大标准化处理\n",
    "from sklearn.preprocessing import MinMaxScaler\n",
    "fire.iloc[:, 4:] = MinMaxScaler().fit_transform(fire.iloc[:, 4:])"
   ]
  },
  {
   "cell_type": "code",
   "execution_count": 16,
   "metadata": {},
   "outputs": [],
   "source": [
    "# print(fire)"
   ]
  },
  {
   "cell_type": "code",
   "execution_count": 17,
   "metadata": {},
   "outputs": [
    {
     "data": {
      "text/html": [
       "<div>\n",
       "<style scoped>\n",
       "    .dataframe tbody tr th:only-of-type {\n",
       "        vertical-align: middle;\n",
       "    }\n",
       "\n",
       "    .dataframe tbody tr th {\n",
       "        vertical-align: top;\n",
       "    }\n",
       "\n",
       "    .dataframe thead th {\n",
       "        text-align: right;\n",
       "    }\n",
       "</style>\n",
       "<table border=\"1\" class=\"dataframe\">\n",
       "  <thead>\n",
       "    <tr style=\"text-align: right;\">\n",
       "      <th></th>\n",
       "      <th>X</th>\n",
       "      <th>Y</th>\n",
       "      <th>month</th>\n",
       "      <th>day</th>\n",
       "      <th>FFMC</th>\n",
       "      <th>DMC</th>\n",
       "      <th>DC</th>\n",
       "      <th>ISI</th>\n",
       "      <th>temp</th>\n",
       "      <th>RH</th>\n",
       "      <th>wind</th>\n",
       "      <th>rain</th>\n",
       "      <th>area</th>\n",
       "    </tr>\n",
       "  </thead>\n",
       "  <tbody>\n",
       "    <tr>\n",
       "      <th>0</th>\n",
       "      <td>7</td>\n",
       "      <td>5</td>\n",
       "      <td>3</td>\n",
       "      <td>5</td>\n",
       "      <td>0.870968</td>\n",
       "      <td>0.086492</td>\n",
       "      <td>0.101325</td>\n",
       "      <td>0.090909</td>\n",
       "      <td>0.192926</td>\n",
       "      <td>0.423529</td>\n",
       "      <td>0.700000</td>\n",
       "      <td>0.00000</td>\n",
       "      <td>0.0</td>\n",
       "    </tr>\n",
       "    <tr>\n",
       "      <th>1</th>\n",
       "      <td>7</td>\n",
       "      <td>4</td>\n",
       "      <td>10</td>\n",
       "      <td>2</td>\n",
       "      <td>0.927742</td>\n",
       "      <td>0.118194</td>\n",
       "      <td>0.775419</td>\n",
       "      <td>0.119430</td>\n",
       "      <td>0.508039</td>\n",
       "      <td>0.211765</td>\n",
       "      <td>0.055556</td>\n",
       "      <td>0.00000</td>\n",
       "      <td>0.0</td>\n",
       "    </tr>\n",
       "    <tr>\n",
       "      <th>2</th>\n",
       "      <td>7</td>\n",
       "      <td>4</td>\n",
       "      <td>10</td>\n",
       "      <td>6</td>\n",
       "      <td>0.927742</td>\n",
       "      <td>0.146795</td>\n",
       "      <td>0.796294</td>\n",
       "      <td>0.119430</td>\n",
       "      <td>0.398714</td>\n",
       "      <td>0.211765</td>\n",
       "      <td>0.100000</td>\n",
       "      <td>0.00000</td>\n",
       "      <td>0.0</td>\n",
       "    </tr>\n",
       "    <tr>\n",
       "      <th>3</th>\n",
       "      <td>8</td>\n",
       "      <td>6</td>\n",
       "      <td>3</td>\n",
       "      <td>5</td>\n",
       "      <td>0.941935</td>\n",
       "      <td>0.110958</td>\n",
       "      <td>0.081623</td>\n",
       "      <td>0.160428</td>\n",
       "      <td>0.196141</td>\n",
       "      <td>0.964706</td>\n",
       "      <td>0.400000</td>\n",
       "      <td>0.03125</td>\n",
       "      <td>0.0</td>\n",
       "    </tr>\n",
       "    <tr>\n",
       "      <th>4</th>\n",
       "      <td>8</td>\n",
       "      <td>6</td>\n",
       "      <td>3</td>\n",
       "      <td>7</td>\n",
       "      <td>0.910968</td>\n",
       "      <td>0.172984</td>\n",
       "      <td>0.110590</td>\n",
       "      <td>0.171123</td>\n",
       "      <td>0.295820</td>\n",
       "      <td>0.988235</td>\n",
       "      <td>0.155556</td>\n",
       "      <td>0.00000</td>\n",
       "      <td>0.0</td>\n",
       "    </tr>\n",
       "  </tbody>\n",
       "</table>\n",
       "</div>"
      ],
      "text/plain": [
       "   X  Y  month  day      FFMC       DMC        DC       ISI      temp  \\\n",
       "0  7  5      3    5  0.870968  0.086492  0.101325  0.090909  0.192926   \n",
       "1  7  4     10    2  0.927742  0.118194  0.775419  0.119430  0.508039   \n",
       "2  7  4     10    6  0.927742  0.146795  0.796294  0.119430  0.398714   \n",
       "3  8  6      3    5  0.941935  0.110958  0.081623  0.160428  0.196141   \n",
       "4  8  6      3    7  0.910968  0.172984  0.110590  0.171123  0.295820   \n",
       "\n",
       "         RH      wind     rain  area  \n",
       "0  0.423529  0.700000  0.00000   0.0  \n",
       "1  0.211765  0.055556  0.00000   0.0  \n",
       "2  0.211765  0.100000  0.00000   0.0  \n",
       "3  0.964706  0.400000  0.03125   0.0  \n",
       "4  0.988235  0.155556  0.00000   0.0  "
      ]
     },
     "execution_count": 17,
     "metadata": {},
     "output_type": "execute_result"
    }
   ],
   "source": [
    "# 再次查看前5行\n",
    "fire.head(5)"
   ]
  },
  {
   "cell_type": "markdown",
   "metadata": {},
   "source": [
    "### 3.2 数据集划分\n",
    "在训练模型之前需要将数据集划分为训练集和测试集，用训练集训练模型，用测试集评估模型："
   ]
  },
  {
   "cell_type": "code",
   "execution_count": 18,
   "metadata": {},
   "outputs": [
    {
     "name": "stdout",
     "output_type": "stream",
     "text": [
      "训练集大小： (412, 12) 测试集大小： (103, 12)\n"
     ]
    }
   ],
   "source": [
    "# 数据集划分\n",
    "# 目标特征分离\n",
    "X = fire.iloc[:, :12]\n",
    "y = fire['area']\n",
    "\n",
    "# 将数据集划分为训练集和测试集，其中训练集占80%，测试集占20%\n",
    "from sklearn.model_selection import train_test_split\n",
    "\n",
    "X_train, X_test, y_train, y_test = train_test_split(X, y, test_size=0.2, random_state=10)\n",
    "print(\"训练集大小：\",X_train.shape, \"测试集大小：\", X_test.shape)"
   ]
  },
  {
   "cell_type": "code",
   "execution_count": 19,
   "metadata": {},
   "outputs": [
    {
     "data": {
      "text/html": [
       "<div>\n",
       "<style scoped>\n",
       "    .dataframe tbody tr th:only-of-type {\n",
       "        vertical-align: middle;\n",
       "    }\n",
       "\n",
       "    .dataframe tbody tr th {\n",
       "        vertical-align: top;\n",
       "    }\n",
       "\n",
       "    .dataframe thead th {\n",
       "        text-align: right;\n",
       "    }\n",
       "</style>\n",
       "<table border=\"1\" class=\"dataframe\">\n",
       "  <thead>\n",
       "    <tr style=\"text-align: right;\">\n",
       "      <th></th>\n",
       "      <th>X</th>\n",
       "      <th>Y</th>\n",
       "      <th>month</th>\n",
       "      <th>day</th>\n",
       "      <th>FFMC</th>\n",
       "      <th>DMC</th>\n",
       "      <th>DC</th>\n",
       "      <th>ISI</th>\n",
       "      <th>temp</th>\n",
       "      <th>RH</th>\n",
       "      <th>wind</th>\n",
       "      <th>rain</th>\n",
       "    </tr>\n",
       "  </thead>\n",
       "  <tbody>\n",
       "    <tr>\n",
       "      <th>102</th>\n",
       "      <td>2</td>\n",
       "      <td>4</td>\n",
       "      <td>8</td>\n",
       "      <td>2</td>\n",
       "      <td>0.981935</td>\n",
       "      <td>0.369400</td>\n",
       "      <td>0.749619</td>\n",
       "      <td>0.303030</td>\n",
       "      <td>0.575563</td>\n",
       "      <td>0.294118</td>\n",
       "      <td>0.400000</td>\n",
       "      <td>0.0</td>\n",
       "    </tr>\n",
       "    <tr>\n",
       "      <th>81</th>\n",
       "      <td>1</td>\n",
       "      <td>2</td>\n",
       "      <td>8</td>\n",
       "      <td>7</td>\n",
       "      <td>0.922581</td>\n",
       "      <td>0.339421</td>\n",
       "      <td>0.730972</td>\n",
       "      <td>0.112299</td>\n",
       "      <td>0.504823</td>\n",
       "      <td>0.341176</td>\n",
       "      <td>0.200000</td>\n",
       "      <td>0.0</td>\n",
       "    </tr>\n",
       "    <tr>\n",
       "      <th>311</th>\n",
       "      <td>6</td>\n",
       "      <td>3</td>\n",
       "      <td>9</td>\n",
       "      <td>7</td>\n",
       "      <td>0.950968</td>\n",
       "      <td>0.360786</td>\n",
       "      <td>0.879794</td>\n",
       "      <td>0.176471</td>\n",
       "      <td>0.726688</td>\n",
       "      <td>0.152941</td>\n",
       "      <td>0.155556</td>\n",
       "      <td>0.0</td>\n",
       "    </tr>\n",
       "    <tr>\n",
       "      <th>181</th>\n",
       "      <td>8</td>\n",
       "      <td>6</td>\n",
       "      <td>10</td>\n",
       "      <td>1</td>\n",
       "      <td>0.854194</td>\n",
       "      <td>0.109235</td>\n",
       "      <td>0.769673</td>\n",
       "      <td>0.053476</td>\n",
       "      <td>0.543408</td>\n",
       "      <td>0.200000</td>\n",
       "      <td>0.400000</td>\n",
       "      <td>0.0</td>\n",
       "    </tr>\n",
       "    <tr>\n",
       "      <th>378</th>\n",
       "      <td>6</td>\n",
       "      <td>5</td>\n",
       "      <td>3</td>\n",
       "      <td>4</td>\n",
       "      <td>0.931613</td>\n",
       "      <td>0.061337</td>\n",
       "      <td>0.026621</td>\n",
       "      <td>0.142602</td>\n",
       "      <td>0.209003</td>\n",
       "      <td>0.423529</td>\n",
       "      <td>0.600000</td>\n",
       "      <td>0.0</td>\n",
       "    </tr>\n",
       "  </tbody>\n",
       "</table>\n",
       "</div>"
      ],
      "text/plain": [
       "     X  Y  month  day      FFMC       DMC        DC       ISI      temp  \\\n",
       "102  2  4      8    2  0.981935  0.369400  0.749619  0.303030  0.575563   \n",
       "81   1  2      8    7  0.922581  0.339421  0.730972  0.112299  0.504823   \n",
       "311  6  3      9    7  0.950968  0.360786  0.879794  0.176471  0.726688   \n",
       "181  8  6     10    1  0.854194  0.109235  0.769673  0.053476  0.543408   \n",
       "378  6  5      3    4  0.931613  0.061337  0.026621  0.142602  0.209003   \n",
       "\n",
       "           RH      wind  rain  \n",
       "102  0.294118  0.400000   0.0  \n",
       "81   0.341176  0.200000   0.0  \n",
       "311  0.152941  0.155556   0.0  \n",
       "181  0.200000  0.400000   0.0  \n",
       "378  0.423529  0.600000   0.0  "
      ]
     },
     "execution_count": 19,
     "metadata": {},
     "output_type": "execute_result"
    }
   ],
   "source": [
    "X_train.head() #查看我们使用的训练集"
   ]
  },
  {
   "cell_type": "markdown",
   "metadata": {},
   "source": [
    "### 3.3 线性回归算法训练模型\n",
    "我们使用线性回归算法训练模型，然后用训练的模型在测试集上进行火灾面积的预测，使用均方误差（MSE）评估模型的性能：\n"
   ]
  },
  {
   "cell_type": "code",
   "execution_count": 20,
   "metadata": {},
   "outputs": [
    {
     "name": "stdout",
     "output_type": "stream",
     "text": [
      "0.0022308781960597088\n"
     ]
    }
   ],
   "source": [
    "# 使用训练集训练模型并在测试集上测试模型的性能\n",
    "from sklearn.linear_model import LinearRegression\n",
    "\n",
    "# 使用线性回归训练模型\n",
    "model_LR = LinearRegression()\n",
    "model_LR.fit(X_train, y_train)\n",
    "pre_LR = model_LR.predict(X_test)\n",
    "\n",
    "# 在测试集上评估模型的性能\n",
    "# 计算均方误差\n",
    "from sklearn.metrics import mean_squared_error\n",
    "mse_LR = mean_squared_error(pre_LR, y_test)\n",
    "\n",
    "print(mse_LR)"
   ]
  },
  {
   "cell_type": "code",
   "execution_count": 21,
   "metadata": {},
   "outputs": [
    {
     "name": "stdout",
     "output_type": "stream",
     "text": [
      "-0.3375740529934541\n"
     ]
    }
   ],
   "source": [
    "from sklearn.metrics import r2_score\n",
    "\n",
    "print(r2_score(y_test, pre_LR))"
   ]
  },
  {
   "cell_type": "markdown",
   "metadata": {},
   "source": [
    "输出线性回归模型中的系数，并绘制模型中每个特征的系数图，查看在该模型中每个特征对火灾面积的影响程度："
   ]
  },
  {
   "cell_type": "code",
   "execution_count": 22,
   "metadata": {},
   "outputs": [
    {
     "data": {
      "text/plain": [
       "X        0.002876\n",
       "Y       -0.003931\n",
       "month    0.008622\n",
       "day     -0.000283\n",
       "FFMC     0.022166\n",
       "DMC      0.066513\n",
       "DC      -0.088605\n",
       "ISI     -0.150728\n",
       "temp     0.073106\n",
       "RH       0.004044\n",
       "wind     0.004759\n",
       "rain    -0.044853\n",
       "dtype: float64"
      ]
     },
     "execution_count": 22,
     "metadata": {},
     "output_type": "execute_result"
    }
   ],
   "source": [
    "# 输出模型系数\n",
    "pd.Series(model_LR.coef_, index=X.columns)"
   ]
  },
  {
   "cell_type": "code",
   "execution_count": 23,
   "metadata": {},
   "outputs": [
    {
     "data": {
      "text/plain": [
       "<AxesSubplot:>"
      ]
     },
     "execution_count": 23,
     "metadata": {},
     "output_type": "execute_result"
    },
    {
     "data": {
      "image/png": "[encoded data removed]",
      "text/plain": [
       "<Figure size 432x288 with 1 Axes>"
      ]
     },
     "metadata": {
      "needs_background": "light"
     },
     "output_type": "display_data"
    }
   ],
   "source": [
    "# 绘制模型中每个特征的系数图\n",
    "pd.Series(model_LR.coef_, index=X.columns).plot(kind='barh', color='r')"
   ]
  },
  {
   "cell_type": "markdown",
   "metadata": {},
   "source": [
    "### 3.4 决策树算法训练模型\n",
    "我们使用决策树算法训练模型，然后用训练的模型在测试集上进行火灾面积的预测，使用均方误差（MSE）评估模型的性能："
   ]
  },
  {
   "cell_type": "code",
   "execution_count": 24,
   "metadata": {},
   "outputs": [
    {
     "name": "stdout",
     "output_type": "stream",
     "text": [
      "0.02747029842788398\n"
     ]
    }
   ],
   "source": [
    "# 构建决策树模型\n",
    "# 使用训练集训练模型并在测试集上测试模型的性能\n",
    "from sklearn.tree import DecisionTreeRegressor    # 回归\n",
    "from sklearn.tree import DecisionTreeClassifier   # 分类\n",
    "\n",
    "# 使用决策树构建模型\n",
    "model_DF = DecisionTreeRegressor(max_depth=5, random_state=10)\n",
    "model_DF.fit(X_train, y_train)  # 训练\n",
    "pre_DF = model_DF.predict(X_test)  # 测试集上预测\n",
    "\n",
    "# 在测试集上评估模型的性能\n",
    "# 计算均方误差\n",
    "mse_DF = mean_squared_error(pre_DF, y_test)\n",
    "\n",
    "print(mse_DF)"
   ]
  },
  {
   "cell_type": "markdown",
   "metadata": {},
   "source": [
    "输出该决策树模型中的特征重要性，查看在该模型中每个特征对火灾面积的影响程度："
   ]
  },
  {
   "cell_type": "code",
   "execution_count": 26,
   "metadata": {},
   "outputs": [
    {
     "data": {
      "text/plain": [
       "<AxesSubplot:>"
      ]
     },
     "execution_count": 26,
     "metadata": {},
     "output_type": "execute_result"
    },
    {
     "data": {
      "image/png": "[encoded data removed]",
      "text/plain": [
       "<Figure size 432x288 with 1 Axes>"
      ]
     },
     "metadata": {
      "needs_background": "light"
     },
     "output_type": "display_data"
    }
   ],
   "source": [
    "pd.Series(model_DF.feature_importances_, index=X.columns).plot(kind='barh', color='g')"
   ]
  },
  {
   "cell_type": "markdown",
   "metadata": {},
   "source": [
    "通过上图，我们可以发现在构建的决策树模型中，影响火灾发生面积的最重要的特征是ISI指数和temp摄氏温度。"
   ]
  },
  {
   "cell_type": "markdown",
   "metadata": {},
   "source": [
    "## 案例总结\n",
    "本案例使用2007年葡萄牙蒙特西尼奥公园的相关数据进行森林火灾面积的预测，首先使用探索性数据分析探究数据集的基本情况、数据的分布情况以及数据之间的相关性等，然后使用线性回归和决策树进行模型的构建和模型的评估。"
   ]
  }
 ],
 "metadata": {
  "kernelspec": {
   "display_name": "Python 3",
   "language": "python",
   "name": "python3"
  },
  "language_info": {
   "codemirror_mode": {
    "name": "ipython",
    "version": 3
   },
   "file_extension": ".py",
   "mimetype": "text/x-python",
   "name": "python",
   "nbconvert_exporter": "python",
   "pygments_lexer": "ipython3",
   "version": "3.8.5"
  }
 },
 "nbformat": 4,
 "nbformat_minor": 4
}
